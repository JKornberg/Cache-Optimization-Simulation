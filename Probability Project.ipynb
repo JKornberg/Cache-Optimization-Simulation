{
 "cells": [
  {
   "cell_type": "code",
   "execution_count": 15,
   "metadata": {},
   "outputs": [],
   "source": [
    "\n",
    "#Get requests\n",
    "#Get files/probabilty\n",
    "\n",
    "import numpy as np\n",
    "import matplotlib.pyplot as plt\n",
    "from queue import PriorityQueue\n",
    "from enum import Enum\n"
   ]
  },
  {
   "cell_type": "code",
   "execution_count": 6,
   "metadata": {},
   "outputs": [],
   "source": [
    "#First in first out\n",
    "#Least recently used\n",
    "#least popular\n",
    "\n",
    "def getFileSize(a,m):\n",
    "    return (np.random.pareto(a) + 1) * m\n",
    "\n",
    "def generateRequests(mean, n):\n",
    "    #Returns structure of \n",
    "    return np.random.poisson(mean,n)\n",
    "\n",
    "#Generate files"
   ]
  },
  {
   "cell_type": "code",
   "execution_count": 38,
   "metadata": {},
   "outputs": [],
   "source": [
    "'''       \n",
    "class RoundTrip:\n",
    "    def __init__(self,speed, queue):\n",
    "        self.speed = speed\n",
    "        self.free = speed\n",
    "        self.queue = queue\n",
    "    def addTask(size):\n",
    "        if free < size:\n",
    "'''\n",
    "\n",
    "class Request:\n",
    "    def __init__(self,time,fileId):\n",
    "        self.time\n",
    "        self.fileId = fileId\n",
    "        \n",
    "    def executeRequest(self,time,cache):\n",
    "        queue.add(cache.checkCache(fileId))\n",
    "        \n",
    "class Cache:\n",
    "    fileIds = {}\n",
    "    used = 0\n",
    "    def __init__(self,queue,size):\n",
    "        self.queue = queue\n",
    "        self.size = size\n",
    "    def checkCache(self,fileId,time):\n",
    "        if fileId in self.fileIds:\n",
    "            size = files[fileId][0]\n",
    "            queue.add(Received(time,time+size/roundTripTime))\n",
    "\n",
    "class Received: \n",
    "    def __init__(self, requestTime, receiveTime):\n",
    "        self.time = receiveTime\n",
    "    \n",
    "\n"
   ]
  },
  {
   "cell_type": "code",
   "execution_count": 20,
   "metadata": {},
   "outputs": [],
   "source": []
  },
  {
   "cell_type": "code",
   "execution_count": 21,
   "metadata": {},
   "outputs": [],
   "source": [
    "requests = {} #\n",
    "files = {} #key value pairs of {fileId: (fileSize,fileProbability)}"
   ]
  },
  {
   "cell_type": "code",
   "execution_count": 22,
   "metadata": {},
   "outputs": [],
   "source": [
    "#SET CONSTANTS AND GLOBALS"
   ]
  },
  {
   "cell_type": "code",
   "execution_count": 23,
   "metadata": {},
   "outputs": [],
   "source": [
    "numberOfFiles = 10000\n",
    "reqPerSecond = 10\n",
    "a, m = 8/7,1/8\n",
    "cacheSize = 2000\n",
    "roundTripTime = 100\n",
    "cache = Cache(cacheSize)\n",
    "queue = PriorityQueue()\n",
    "r = RoundTrip(roundTripTime)"
   ]
  },
  {
   "cell_type": "code",
   "execution_count": null,
   "metadata": {},
   "outputs": [],
   "source": []
  },
  {
   "cell_type": "code",
   "execution_count": 25,
   "metadata": {},
   "outputs": [],
   "source": [
    "e1 = Event(0.5,1,1)\n",
    "queue.put((e1.time,e1))"
   ]
  },
  {
   "cell_type": "code",
   "execution_count": 26,
   "metadata": {},
   "outputs": [],
   "source": [
    "e2 = Event(0.25,1,1)\n",
    "queue.put((e2.time,e2))"
   ]
  },
  {
   "cell_type": "code",
   "execution_count": 28,
   "metadata": {},
   "outputs": [
    {
     "data": {
      "text/plain": [
       "(0.25, <__main__.Event at 0x19d812e43d0>)"
      ]
     },
     "execution_count": 28,
     "metadata": {},
     "output_type": "execute_result"
    }
   ],
   "source": [
    "queue.get()"
   ]
  },
  {
   "cell_type": "code",
   "execution_count": null,
   "metadata": {},
   "outputs": [],
   "source": []
  }
 ],
 "metadata": {
  "kernelspec": {
   "display_name": "Python 3",
   "language": "python",
   "name": "python3"
  },
  "language_info": {
   "codemirror_mode": {
    "name": "ipython",
    "version": 3
   },
   "file_extension": ".py",
   "mimetype": "text/x-python",
   "name": "python",
   "nbconvert_exporter": "python",
   "pygments_lexer": "ipython3",
   "version": "3.9.1"
  }
 },
 "nbformat": 4,
 "nbformat_minor": 4
}
